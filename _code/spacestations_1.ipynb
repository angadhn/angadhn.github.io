{
 "cells": [
  {
   "cell_type": "markdown",
   "id": "6308166f",
   "metadata": {},
   "source": [
    "# Capacity Comparison: 100-Person Space Station vs. ISS\n",
    "## Known aspects of the ISS (or Data)\n",
    "The volume of the ISS is:\n",
    "- Total Pressurized Volume, $(V_{tot})_{ISS}$: $916 \\,m^3$\n",
    "- Habitable Volume, $(V_{hab})_{ISS}$: $388 \\,m^3$\n",
    "\n",
    "This means about $42\\%$ of the ISS's total volume is habitable. It typically hosts a:\n",
    "- Standard crew, $n_{avg} = 7$ astronauts.\n",
    "- Maximum crew of,$n_{max} = 13$ astronauts (short-term).\n",
    "\n",
    "Not sure when this will matter in my analysis but the ISS mass is $420,000 \\, kg$."
   ]
  },
  {
   "cell_type": "code",
   "execution_count": 2,
   "id": "8b5963b4",
   "metadata": {},
   "outputs": [
    {
     "name": "stdout",
     "output_type": "stream",
     "text": [
      "max volume per crew 64.66666666666667\n",
      "min volume per crew 29.846153846153847\n",
      "ideal volume per crew 152.66666666666666\n",
      "habitable percentage 42.35807860262009\n"
     ]
    }
   ],
   "source": [
    "ISS_Pressurized_Volume = 916 #m^3\n",
    "ISS_Habitable_Volume = 388 #m^3\n",
    "ISS_min_crew = 6 #astronauts\n",
    "ISS_max_crew = 13 #astronauts\n",
    "max_volume_per_crew_ISS = ISS_Habitable_Volume/ISS_min_crew\n",
    "min_volume_per_crew_ISS = ISS_Habitable_Volume/ISS_max_crew\n",
    "ideal_volume_per_crew_ISS = ISS_Pressurized_Volume/ISS_min_crew\n",
    "print(\"max volume per crew\", max_volume_per_crew_ISS)\n",
    "print(\"min volume per crew\", min_volume_per_crew_ISS)\n",
    "print(\"ideal volume per crew\", ideal_volume_per_crew_ISS)\n",
    "print(\"habitable percentage\", 100*ISS_Habitable_Volume/ISS_Pressurized_Volume)"
   ]
  },
  {
   "cell_type": "markdown",
   "id": "6ae7e2b0",
   "metadata": {},
   "source": [
    "## Known aspects of Von Braun's Rotating Wheel Space Station\n",
    "Wernher von Braun's [video](https://www.youtube.com/watch?v=5JJL8CUfF-o) says that a rotating wheel space station would have 9 sections for:\n",
    "1. Headquarter and Communications\n",
    "2. Earth Weather Observation/Prediction\n",
    "3. Military Reconnaisance using Optical and Radar Telescopes\n",
    "4. Emergency Hospital Section\n",
    "5. Astronomy\n",
    "6. Calculation Machines and a lower/outer deck with maintenance facilities\n",
    "7. A/C equipment\n",
    "8. Living quarters\n",
    "9. Botanical and Zoological Laboratory\n",
    "The video shows two decks throughout the space station, which I assume is 6 $m$ height in total. Wikipedia says 3 decks, but I will stick to two 6 $m$ decks for now.\n",
    "\n",
    "The system is powered by an atomic reactor attached on one side of its central hub; its heat will drive a turbogenerator to power the station.\n",
    "Radio and radar antennas sit atop the reactor. The other side of the hub has an airlock for astronauts to access/exit the space station via smaller spacecraft. Like a bicycle wheel, the system had thin spokes are condensers for the turbogenerator and air-conditioning plant. Three larger tubes are elevator shafts that connect the hub to the main habitable sections of the wheel station. The station would:\n",
    "- host 50 astronauts though [Wikipedia](https://en.wikipedia.org/wiki/Rotating_wheel_space_station#History) states 80 people.\n",
    "- rotate at roughly 3 rpm to produce artificial gravity on the rim; and\n",
    "- be a torus of 250 $ft$ (76  $m$) diameter. The distance from the center of the tube to the center of the torus is $R = 70/2 = 35 \\, m$ and the minor radius of the tube is $r = 6/2 = 3 \\, m$. The volume of this torus is then the station's total pressurized volume, which is given by:\n",
    "$(V_{tot})_{vB} = 2 \\pi^2 R r^2$\n",
    "\n",
    "So, we can estimate the volume of the the von Braun space station as:\n",
    "- Total Pressurized Volume: 6217.85 $m^3$\n",
    "- Habitable Volume: 3730.71 $m^3$"
   ]
  },
  {
   "cell_type": "code",
   "execution_count": 3,
   "id": "cfaf4fe9",
   "metadata": {},
   "outputs": [
    {
     "name": "stdout",
     "output_type": "stream",
     "text": [
      "vb_wheel_Pressurized_Volume 6750.809410345121\n",
      "vb_wheel_Habitable_Volume 4050.4856462070725\n",
      "max volume per crew 81.00971292414145\n",
      "min volume per crew 40.50485646207073\n",
      "ideal volume per crew 135.01618820690243\n"
     ]
    }
   ],
   "source": [
    "from math import pi\n",
    "vb_wheel_dia = 76 #m\n",
    "vb_wheel_height = 6 #m\n",
    "\n",
    "vb_wheel_Pressurized_Volume = 2 * pi**2 * (vb_wheel_dia/2) * (vb_wheel_height/2)**2 #m^3\n",
    "habitable_factor_ISS = ISS_Habitable_Volume/ISS_Pressurized_Volume\n",
    "habitable_factor_targeted = 0.6\n",
    "vb_wheel_Habitable_Volume = vb_wheel_Pressurized_Volume * habitable_factor_targeted  #m^3\n",
    "\n",
    "vb_wheel_std_crew = 50 #astronauts\n",
    "vb_wheel_max_crew = 100 #astronauts\n",
    "max_volume_per_crew_vb = vb_wheel_Habitable_Volume/vb_wheel_std_crew\n",
    "min_volume_per_crew_vb = vb_wheel_Habitable_Volume/vb_wheel_max_crew\n",
    "ideal_volume_per_crew_vb = vb_wheel_Pressurized_Volume/vb_wheel_std_crew\n",
    "print(\"vb_wheel_Pressurized_Volume\", vb_wheel_Pressurized_Volume)\n",
    "print(\"vb_wheel_Habitable_Volume\", vb_wheel_Habitable_Volume)\n",
    "print(\"max volume per crew\", max_volume_per_crew_vb)\n",
    "print(\"min volume per crew\", min_volume_per_crew_vb)\n",
    "print(\"ideal volume per crew\", ideal_volume_per_crew_vb)"
   ]
  },
  {
   "cell_type": "code",
   "execution_count": 4,
   "id": "174e18e8",
   "metadata": {},
   "outputs": [
    {
     "name": "stdout",
     "output_type": "stream",
     "text": [
      "habitable_ratios of von Braun's wheel vs ISS 10.439395995379053\n",
      "Pressurized_ratios of von Braun's wheel vs ISS 7.369879268935722\n"
     ]
    }
   ],
   "source": [
    "habitable_ratios = vb_wheel_Habitable_Volume/ISS_Habitable_Volume\n",
    "Pressurized_ratios = vb_wheel_Pressurized_Volume/ISS_Pressurized_Volume\n",
    "print(\"habitable_ratios of von Braun's wheel vs ISS\", habitable_ratios)\n",
    "print(\"Pressurized_ratios of von Braun's wheel vs ISS\", Pressurized_ratios)"
   ]
  },
  {
   "cell_type": "markdown",
   "id": "07edd60a",
   "metadata": {},
   "source": [
    "### How did von Braun imagine its realisation?\n",
    "Pre-fabricated and tested on the ground after which it is dismantled and assembled robotically in-orbit.\n",
    "\n",
    "First, the hub is inflated using compressed air from built-in tanks. Protection from meteors is ensured by putting thin metal plates; this is unnecessary today as we have developed high-strength textiles that are used on inflatable space stations.\n",
    "\n",
    "A second launch brings with it an airlock, which is again attached by robots; this allows the pressurized hub to be used as a temporary quarters as the station assembly continues with astronaut-robot teams.\n",
    "\n",
    "A number successive launches (he says) ensure the \"parts of the station  are assembled in the correct order\". Nylon tethers prevent parts from drifting away.\n",
    "\n",
    "The reactor appears to be the next big piece that is installed so I assume this is the third launch. This is followed by the elevator shafts and the rim sections being brought together. We can assume a single launch for each module: $3$ elevator tubes and 9 rim modules (assuming one per section).\n",
    "\n",
    "<div>\n",
    "<img src=\"../assets/imgs/AssemblyOfRim.png\" width=\"400\">\n",
    "</div>\n",
    "\n",
    "Assuming condenser pipes are installed from one launch (but the strucutre itself needs to be unwound robotically, which seems unreasonable/unreal at the moment as a robotic task.\n",
    "\n",
    "<div>\n",
    "<img src=\"../assets/imgs/CondenserPipesInstallation.png\" width=\"400\">\n",
    "</div>\n",
    "\n",
    "Lastly, the installation of instruments/equipment (a simple catch-all term for imaging antennas and the lab facilities compute for astornomical/EO data analysis, I think) and two small rocket motors on the rim. These rocket motors \"blast for a few seconds\" to revolve the station at about $3 \\, RPM$. \n",
    "\n",
    "\n",
    "\n",
    "### Some Percieved Gaps in Design:\n",
    "1. Assumes a launch every 24 hours- not close to it then and not really close to that kind of cadence today. What could we do today?\n",
    "2. Doesn't really say how many launches are needed to realize assembly in the video. This can probably be found elsewhere but my estimate from watching the video is 15-18 launches.\n",
    "3. The process involves a number of assembly robots but we barely have one of these today. And whatever is there not autonomous.\n",
    "\n",
    "### Question: How can we double the total volume of the von Braun wheel?\n",
    "To double the wheel's pressurized volume to 12435.7 $m^3$, one option is to increase the tube's height to 8.48 $m$. "
   ]
  },
  {
   "cell_type": "code",
   "execution_count": 5,
   "id": "17b60e39",
   "metadata": {},
   "outputs": [
    {
     "name": "stdout",
     "output_type": "stream",
     "text": [
      "doubled vb_wheel_Pressurized_Volume 13501.618820690244 when tube dia is 8.485281374238571\n"
     ]
    }
   ],
   "source": [
    "from math import sqrt\n",
    "vb_wheel_height_for_doubled_volume = 6 * sqrt(2) #m\n",
    "vb_wheel_Pressurized_Volume_doubled = 2 * pi**2 * (vb_wheel_dia/2) * (vb_wheel_height_for_doubled_volume/2)**2 #m^3\n",
    "print(\"doubled vb_wheel_Pressurized_Volume\", vb_wheel_Pressurized_Volume_doubled, \"when tube dia is\", vb_wheel_height_for_doubled_volume)"
   ]
  },
  {
   "cell_type": "markdown",
   "id": "b58a36f7",
   "metadata": {},
   "source": [
    "The other option is to increase the torus's diameter altogether, which we discuss later."
   ]
  },
  {
   "cell_type": "markdown",
   "id": "4b1425c0",
   "metadata": {},
   "source": [
    "### Question: Are there reasons to increase the radius of the wheel as opposed to the height of the tube?\n",
    "One benefit might be that you need to rotate the tube slower to generate artificial gravity."
   ]
  },
  {
   "cell_type": "code",
   "execution_count": 6,
   "id": "955f8888",
   "metadata": {},
   "outputs": [
    {
     "name": "stdout",
     "output_type": "stream",
     "text": [
      "rot speed of von Braun wheel to generate a third of Earth g is 0.2933472883442889 rad/s or 2.8012537084061204 RPM\n",
      "rot speed of von Braun wheel to generate Earth g is 0.508092407674866 rad/s or 4.8519137478501335 RPM\n"
     ]
    }
   ],
   "source": [
    "vb_wheel_radius = vb_wheel_dia / 2\n",
    "earth_g = 9.81 #m/s^2\n",
    "rot_speed_vb = sqrt(1/3*earth_g/vb_wheel_radius)\n",
    "print(\"rot speed of von Braun wheel to generate a third of Earth g is\", rot_speed_vb, \"rad/s or\", rot_speed_vb/0.10472, \"RPM\")\n",
    "print(\"rot speed of von Braun wheel to generate Earth g is\", sqrt(earth_g/vb_wheel_radius), \"rad/s or\", sqrt(earth_g/vb_wheel_radius)/0.10472, \"RPM\")"
   ]
  },
  {
   "cell_type": "markdown",
   "id": "dce9bcf5",
   "metadata": {},
   "source": [
    "Comparing my calculations to [2001: A Space Odyssey's Space Staiton V](https://youtu.be/im-JM0f_J7s?t=136)"
   ]
  },
  {
   "cell_type": "code",
   "execution_count": null,
   "id": "9a89acaf",
   "metadata": {},
   "outputs": [],
   "source": [
    "SSV_wheel_radius = 150 #m\n",
    "moon_g = 1.655 #m/s^2\n",
    "rot_speed_SSV_for_moon_g = sqrt(moon_g/SSV_wheel_radius)\n",
    "print(\"2001's wheel generates Moon's gravity by rotating at\", rot_speed_SSV_for_moon_g, \"rad/s or\", rot_speed_SSV_for_moon_g/0.10472, \"RPM\")\n",
    "rot_speed_SSV_for_earth_g = sqrt(1/3*earth_g/SSV_wheel_radius)\n",
    "print(\"2001's wheel generates third of Earth's gravity by rotating at\", rot_speed_SSV_for_earth_g, \"rad/s or\", rot_speed_SSV_for_earth_g/0.10472, \"RPM\")\n",
    "rot_speed_SSV_for_earth_g = sqrt(earth_g/SSV_wheel_radius)\n",
    "print(\"2001's wheel generates Earth's gravity by rotating at\", rot_speed_SSV_for_earth_g, \"rad/s or\", rot_speed_SSV_for_earth_g/0.10472, \"RPM\")"
   ]
  },
  {
   "cell_type": "markdown",
   "id": "bfc94662",
   "metadata": {},
   "source": [
    "This shows that lower spin rates (needed to prevent motion sickness and acceleration differentials between that push blood to the feet) result in accelerations closer to Earth's but are achievable only with structures larger in diameter than the von Braun wheel. But building larger structures carries the benefit of more pressurized volumes; Space Station V is a little over 4 times the volume of the von Braun wheel and 29 times the ISS."
   ]
  },
  {
   "cell_type": "code",
   "execution_count": null,
   "id": "bc7c012c",
   "metadata": {},
   "outputs": [],
   "source": [
    "SSV_Pressurized_Volume = 2 * pi**2 * (SSV_wheel_radius) * (vb_wheel_height/2)**2 #m^3\n",
    "print(\"SSV Pressurized volume is\", SSV_Pressurized_Volume)\n",
    "print(\"SSV pressurized volume is\", SSV_Pressurized_Volume/vb_wheel_Pressurized_Volume, \"time the von Braun wheel's and\", SSV_Pressurized_Volume/ISS_Pressurized_Volume, \"times that of ISS.\")"
   ]
  },
  {
   "cell_type": "markdown",
   "id": "2a356106",
   "metadata": {},
   "source": [
    "SSV volume is 4.285714285714286 time the von Braun wheel's and 29.09162869316732 times that of ISS.\n",
    "\n",
    "## So how can we get to this in one launch- that's the question!\n",
    "Are inflatables the answer....?"
   ]
  },
  {
   "cell_type": "markdown",
   "id": "e9120d38",
   "metadata": {},
   "source": []
  },
  {
   "cell_type": "code",
   "execution_count": null,
   "id": "0d72bb34",
   "metadata": {},
   "outputs": [],
   "source": [
    "# Calculate the diameter of a torus with an internal volume of 100,000 m^3 and inner tube diameter of 10 m\n",
    "from math import pi\n",
    "# Given values\n",
    "V_hph = 100000  # m^3, internal volume\n",
    "d_hph = 10  # m, inner tube diameter (small diameter)\n",
    "\n",
    "# Calculate the radius of the inner tube\n",
    "r_hph = d_hph / 2\n",
    "\n",
    "# The volume of a torus is given by the formula: V = 2π^2 * R * r^2\n",
    "# Where R is the distance from the center of the torus to the center of the tube (large radius)\n",
    "\n",
    "# Rearrange the formula to solve for R\n",
    "R_hph = V_hph / (2 * pi**2 * r_hph**2)\n",
    "\n",
    "# Calculate the overall diameter of the torus\n",
    "D_hph = 2 * (R_hph + r_hph)\n",
    "\n",
    "print(f\"For a torus with an internal volume of {V_hph} m^3 and an inner tube diameter of {d_hph} m:\")\n",
    "print(f\"The large radius (R) is approximately {R_hph:.2f} m\")\n",
    "print(f\"The overall diameter of the torus is approximately {D_hph:.2f} m\")\n",
    "\n",
    "# Compare to Space Station V\n",
    "print(f\"\\nComparison to ISS:\")\n",
    "print(f\"But it has a volume of {V_hph/ISS_Pressurized_Volume:.2f} times that of ISS\")\n",
    "\n",
    "print(f\"\\nComparison to von Braun's wheel:\")\n",
    "print(f\"But it has a volume of {V_hph/vb_wheel_Pressurized_Volume:.2f} times that of von Braun's wheel\")\n",
    "\n",
    "print(f\"\\nComparison to von Braun's wheel:\")\n",
    "print(f\"But it has a volume of {V_hph/vb_wheel_Pressurized_Volume:.2f} times that of von Braun's wheel\")\n",
    "\n",
    "print(f\"\\nVolume per crew of this space station assuming 100 crew:\")\n",
    "print(f\"This is {V_hph/100:.2f} cubic meters per crew\")\n",
    "print(f\"This is {(V_hph/100)/(ISS_Pressurized_Volume/ISS_min_crew):.2f} times that of ISS\")"
   ]
  },
  {
   "cell_type": "code",
   "execution_count": null,
   "id": "8b05a266",
   "metadata": {},
   "outputs": [],
   "source": [
    "R_hph = 100  # m^3, internal volume\n",
    "d_hph = 10  # m, inner tube diameter (small diameter)\n",
    "\n",
    "# Rearrange the formula to solve for R\n",
    "V_hph = 2 * pi**2 * R_hph * r_hph**2\n",
    "# Calculate the overall diameter of the torus\n",
    "D_hph = 2 * (R_hph + r_hph)\n",
    "\n",
    "print(f\"For a torus with an internal volume of {V_hph} m^3 and an inner tube diameter of {d_hph} m:\")\n",
    "print(f\"The large radius (R) is approximately {R_hph:.2f} m\")\n",
    "print(f\"The overall diameter of the torus is approximately {D_hph:.2f} m\")\n",
    "\n",
    "# Compare to Space Station V\n",
    "print(f\"\\nComparison to ISS:\")\n",
    "print(f\"But it has a volume of {V_hph/ISS_Pressurized_Volume:.2f} times that of ISS\")\n",
    "\n",
    "print(f\"\\nComparison to von Braun's wheel:\")\n",
    "print(f\"But it has a volume of {V_hph/vb_wheel_Pressurized_Volume:.2f} times that of von Braun's wheel\")\n",
    "\n",
    "print(f\"\\nVolume per crew of this space station assuming 100 crew:\")\n",
    "print(f\"This is {V_hph/100:.2f} cubic meters per crew\")\n",
    "print(f\"This is {(V_hph/100)/(ISS_Pressurized_Volume/ISS_min_crew):.2f} times that of ISS\")"
   ]
  },
  {
   "cell_type": "code",
   "execution_count": null,
   "id": "a49b0a2c",
   "metadata": {},
   "outputs": [],
   "source": [
    "# Calculate the diameter of a torus with an internal volume of 100,000 m^3 and inner tube diameter of 10 m\n",
    "from math import pi\n",
    "# Given values\n",
    "V_hph = 20*ISS_Pressurized_Volume  # m^3, internal volume\n",
    "d_hph = 10  # m, inner tube diameter (small diameter)\n",
    "print(\"V_hph\", V_hph)\n",
    "# Calculate the radius of the inner tube\n",
    "r_hph = d_hph / 2\n",
    "\n",
    "# The volume of a torus is given by the formula: V = 2π^2 * R * r^2\n",
    "# Where R is the distance from the center of the torus to the center of the tube (large radius)\n",
    "\n",
    "# Rearrange the formula to solve for R\n",
    "R_hph = V_hph / (2 * pi**2 * r_hph**2)\n",
    "\n",
    "# Calculate the overall diameter of the torus\n",
    "D_hph = 2 * (R_hph + r_hph)\n",
    "\n",
    "print(f\"For a torus with an internal volume of {V_hph} m^3 and an inner tube diameter of {d_hph} m:\")\n",
    "print(f\"The large radius (R) is approximately {R_hph:.2f} m\")\n",
    "print(f\"The overall diameter of the torus is approximately {D_hph:.2f} m\")\n",
    "\n",
    "# Compare to Space Station V\n",
    "print(f\"\\nComparison to ISS:\")\n",
    "print(f\"It has a volume of {V_hph/ISS_Pressurized_Volume:.2f} times that of ISS\")\n",
    "\n",
    "print(f\"\\nComparison to von Braun's wheel:\")\n",
    "print(f\"and a {V_hph/vb_wheel_Pressurized_Volume:.2f} times that of von Braun's wheel\")\n",
    "\n",
    "print(f\"\\nVolume per crew of this space station assuming 100 crew:\")\n",
    "print(f\"This is {V_hph/100:.2f} cubic meters per crew\")\n",
    "print(f\"This is {(V_hph/100)/(ISS_Pressurized_Volume/ISS_min_crew):.2f} times that of ISS\")"
   ]
  },
  {
   "cell_type": "code",
   "execution_count": null,
   "id": "20ebb6fa",
   "metadata": {},
   "outputs": [],
   "source": [
    "import math\n",
    "\n",
    "class SpaceStation:\n",
    "    def __init__(self, name, crew_capacity):\n",
    "        self.name = name\n",
    "        self.crew_capacity = crew_capacity\n",
    "        self.pressurized_volume = None\n",
    "        self.habitable_volume = None\n",
    "        self.habitable_percentage = None\n",
    "\n",
    "    def volume_per_crew(self):\n",
    "        if self.pressurized_volume is None:\n",
    "            raise ValueError(\"Pressurized volume is not set. Please initialize the station properly.\")\n",
    "        return self.pressurized_volume / self.crew_capacity\n",
    "\n",
    "    def habitable_volume_per_crew(self):\n",
    "        if self.habitable_volume is None:\n",
    "            raise ValueError(\"Habitable volume is not set. Please initialize the station properly.\")\n",
    "        return self.habitable_volume / self.crew_capacity\n",
    "\n",
    "class ModularStation(SpaceStation):\n",
    "    def __init__(self, name, design_type, **kwargs):\n",
    "        self.design_type = design_type\n",
    "        if design_type == \"ISS\":\n",
    "            super().__init__(name, crew_capacity=ISS_min_crew)\n",
    "            self.pressurized_volume = ISS_Pressurized_Volume\n",
    "            self.habitable_percentage = 42.35\n",
    "            self.habitable_volume = self.pressurized_volume * (self.habitable_percentage / 100)\n",
    "        elif design_type == \"custom\":\n",
    "            super().__init__(name, kwargs.get('crew_capacity'))\n",
    "            self.pressurized_volume = kwargs.get('pressurized_volume')\n",
    "            self.habitable_percentage = kwargs.get('habitable_percentage')\n",
    "            self.habitable_volume = self.pressurized_volume * (self.habitable_percentage / 100)\n",
    "            \n",
    "            # Check if all necessary parameters are provided\n",
    "            required_params = ['crew_capacity', 'pressurized_volume', 'habitable_percentage']\n",
    "            missing_params = [param for param in required_params if kwargs.get(param) is None]\n",
    "            if missing_params:\n",
    "                raise ValueError(f\"Missing required parameters for custom design: {', '.join(missing_params)}\")\n",
    "        else:\n",
    "            raise ValueError(\"Invalid design type. Choose 'ISS' or 'custom'.\")\n",
    "\n",
    "class WheelSpaceStation(SpaceStation):\n",
    "    def __init__(self, name, design_type, **kwargs):\n",
    "        self.design_type = design_type\n",
    "        if design_type == \"von_braun\":\n",
    "            super().__init__(name, crew_capacity=80)\n",
    "            self.diameter = 75  # m\n",
    "            self.rotation_speed = 3  # RPM\n",
    "            self.gravity = 1.655  # m/s^2\n",
    "            self.pressurized_volume = 6217.85  # m^3\n",
    "        elif design_type == \"space_station_v\":\n",
    "            super().__init__(name, crew_capacity=100)\n",
    "            self.diameter = 300  # m\n",
    "            self.rotation_speed = 2.44  # RPM\n",
    "            self.gravity = 9.81  # m/s^2\n",
    "            self.pressurized_volume = 100000  # m^3\n",
    "        elif design_type == \"custom\":\n",
    "            super().__init__(name, kwargs.get('crew_capacity'))\n",
    "            self.diameter = kwargs.get('diameter')\n",
    "            self.rotation_speed = kwargs.get('rotation_speed')\n",
    "            self.gravity = kwargs.get('gravity')\n",
    "            self.pressurized_volume = kwargs.get('pressurized_volume')\n",
    "            \n",
    "            # Check if all necessary parameters are provided\n",
    "            required_params = ['crew_capacity', 'diameter', 'rotation_speed', 'pressurized_volume']\n",
    "            missing_params = [param for param in required_params if kwargs.get(param) is None]\n",
    "            if missing_params:\n",
    "                raise ValueError(f\"Missing required parameters for custom design: {', '.join(missing_params)}\")\n",
    "        else:\n",
    "            raise ValueError(\"Invalid design type. Choose 'von_braun', 'space_station_v', or 'custom'.\")\n",
    "\n",
    "        self.set_rotation(self.rotation_speed)\n",
    "\n",
    "    def set_rotation(self, rpm):\n",
    "        if rpm is None:\n",
    "            raise ValueError(\"Rotation speed (RPM) is not set. Please provide a valid rotation speed.\")\n",
    "        self.rotation_speed = rpm\n",
    "        self.gravity = self.calculate_gravity()\n",
    "\n",
    "    def calculate_gravity(self):\n",
    "        if self.diameter is None or self.rotation_speed is None:\n",
    "            raise ValueError(\"Diameter or rotation speed is not set. Please initialize the station properly.\")\n",
    "        radius = self.diameter / 2\n",
    "        angular_velocity = self.rotation_speed * 2 * math.pi / 60  # Convert RPM to rad/s\n",
    "        return angular_velocity**2 * radius\n",
    "\n",
    "# Test cases\n",
    "print(\"Testing ModularStation (ISS):\")\n",
    "iss = ModularStation(\"ISS\", \"ISS\")\n",
    "print(f\"ISS volume per crew: {iss.volume_per_crew():.2f} m^3\")\n",
    "print(f\"Expected: {ISS_Pressurized_Volume/ISS_min_crew:.2f} m^3\")\n",
    "print(f\"Crew capacity matches: {iss.crew_capacity == ISS_min_crew}\")\n",
    "print(f\"Pressurized volume matches: {iss.pressurized_volume == ISS_Pressurized_Volume}\")\n",
    "\n",
    "print(\"\\nTesting WheelSpaceStation (Von Braun Wheel):\")\n",
    "vb_wheel = WheelSpaceStation(\"Von Braun Wheel\", \"von_braun\")\n",
    "print(f\"Von Braun Wheel volume per crew: {vb_wheel.volume_per_crew():.2f} m^3\")\n",
    "print(f\"Expected: {vb_wheel_Pressurized_Volume/80:.2f} m^3\")\n",
    "print(f\"Rotation speed: {vb_wheel.rotation_speed} RPM\")\n",
    "print(f\"Gravity: {vb_wheel.gravity:.3f} m/s^2\")\n",
    "print(f\"Expected gravity: 1.655 m/s^2\")\n",
    "print(f\"Pressurized volume matches: {vb_wheel.pressurized_volume == vb_wheel_Pressurized_Volume}\")\n",
    "\n",
    "print(\"\\nTesting WheelSpaceStation (Space Station V):\")\n",
    "ssv = WheelSpaceStation(\"Space Station V\", \"space_station_v\")\n",
    "print(f\"Space Station V volume per crew: {ssv.volume_per_crew():.2f} m^3\")\n",
    "print(f\"Expected: {V_hph/100:.2f} m^3\")\n",
    "print(f\"Rotation speed: {ssv.rotation_speed} RPM\")\n",
    "print(f\"Gravity: {ssv.gravity:.3f} m/s^2\")\n",
    "print(f\"Expected gravity: 9.810 m/s^2\")\n",
    "print(f\"Pressurized volume matches: {ssv.pressurized_volume == V_hph}\")\n",
    "print(f\"Diameter matches: {ssv.diameter == D_hph:.2f}\")\n",
    "\n",
    "print(\"\\nTesting WheelSpaceStation (Custom):\")\n",
    "custom_station = WheelSpaceStation(\"Custom Station\", \"custom\", crew_capacity=150, diameter=400, rotation_speed=2, pressurized_volume=150000)\n",
    "print(f\"Custom Station volume per crew: {custom_station.volume_per_crew():.2f} m^3\")\n",
    "print(f\"Expected: {150000/150:.2f} m^3\")\n",
    "print(f\"Rotation speed: {custom_station.rotation_speed} RPM\")\n",
    "print(f\"Gravity: {custom_station.gravity:.3f} m/s^2\")\n",
    "expected_gravity = (2 * 2 * math.pi / 60)**2 * (400/2)\n",
    "print(f\"Expected gravity: {expected_gravity:.3f} m/s^2\")\n",
    "print(f\"Calculated gravity matches expected: {abs(custom_station.gravity - expected_gravity) < 1e-6}\")\n",
    "\n",
    "print(\"\\nTesting rotation change:\")\n",
    "custom_station.set_rotation(2.5)\n",
    "print(f\"New rotation speed: {custom_station.rotation_speed} RPM\")\n",
    "print(f\"New gravity: {custom_station.gravity:.3f} m/s^2\")\n",
    "expected_new_gravity = (2.5 * 2 * math.pi / 60)**2 * (400/2)\n",
    "print(f\"Expected gravity: {expected_new_gravity:.3f} m/s^2\")\n",
    "print(f\"Calculated new gravity matches expected: {abs(custom_station.gravity - expected_new_gravity) < 1e-6}\")\n",
    "\n",
    "print(\"\\nTesting error handling for custom design:\")\n",
    "try:\n",
    "    invalid_custom = WheelSpaceStation(\"Invalid Custom\", \"custom\", crew_capacity=100)\n",
    "except ValueError as e:\n",
    "    print(f\"Caught expected error: {e}\")\n",
    "\n",
    "try:\n",
    "    invalid_custom = WheelSpaceStation(\"Invalid Custom\", \"custom\", crew_capacity=100, diameter=200, rotation_speed=2)\n",
    "except ValueError as e:\n",
    "    print(f\"Caught expected error: {e}\")\n",
    "\n",
    "try:\n",
    "    invalid_custom = WheelSpaceStation(\"Invalid Custom\", \"custom\", crew_capacity=100, diameter=200, pressurized_volume=50000)\n",
    "    invalid_custom.set_rotation(None)\n",
    "except ValueError as e:\n",
    "    print(f\"Caught expected error: {e}\")\n",
    "\n",
    "# Additional checks based on previous cell outputs\n",
    "print(\"\\nAdditional checks:\")\n",
    "print(f\"Space Station V volume: {V_hph:.2f} m^3\")\n",
    "print(f\"Space Station V volume compared to ISS: {V_hph/ISS_Pressurized_Volume:.2f} times\")\n",
    "print(f\"Space Station V volume compared to von Braun's wheel: {V_hph/vb_wheel_Pressurized_Volume:.2f} times\")\n",
    "print(f\"Space Station V volume per crew (100 crew): {V_hph/100:.2f} m^3\")\n",
    "print(f\"Space Station V volume per crew compared to ISS: {(V_hph/100)/(ISS_Pressurized_Volume/ISS_min_crew):.2f} times\")\n",
    "\n",
    "print(f\"\\nSpace Station V large radius: {R_hph:.2f} m\")\n",
    "print(f\"Space Station V overall diameter: {D_hph:.2f} m\")\n"
   ]
  },
  {
   "cell_type": "markdown",
   "id": "e02636d0",
   "metadata": {},
   "source": [
    "# BEAM-based HPH\n",
    "Given that the BEAM has a total volume of 16 $m^3$, we can estimate the number of modules needed to host 100 crew as:\n",
    "\n"
   ]
  },
  {
   "cell_type": "code",
   "execution_count": null,
   "id": "18a5dd12",
   "metadata": {},
   "outputs": [],
   "source": [
    "ISS_Pressurized_Volume = 916 #m^3\n",
    "V_BEAM_deployed = 16 #m^3\n",
    "n_BEAM_modules_needed_to_match_ISS = ISS_Pressurized_Volume/V_BEAM_deployed\n",
    "print(\"We need\", n_BEAM_modules_needed_to_match_ISS, \"BEAM modules to match ISS volume\")"
   ]
  },
  {
   "cell_type": "code",
   "execution_count": null,
   "id": "cfcf0a9d",
   "metadata": {},
   "outputs": [],
   "source": [
    "# Calculate volume of Starship payload\n",
    "import numpy as np\n",
    "starship_diameter = 8  # meters\n",
    "starship_height = 22   # meters usable height for crew/cargo section\n",
    "starship_volume = np.pi * (starship_diameter/2)**2 * starship_height\n",
    "\n",
    "print(f\"Approximate Starship payload bay volume: {starship_volume:.2f} m^3\")\n",
    "print(\"number of Starship launches needed to achieve ISS volume\", ISS_Pressurized_Volume/starship_volume)\n",
    "\n",
    "V_von_braun = 6217.85 #m^3\n",
    "print(\"number of Starship launches needed to achieve von Braun volume\", V_von_braun/starship_volume)\n",
    "\n",
    "V_hph = ISS_Pressurized_Volume * 20\n",
    "print(\"number of Starship launches needed to achieve HPH volume\", V_hph/starship_volume)\n",
    "\n",
    "V_BEAM_stowed = V_BEAM_deployed/4 # assuming BEAM stows to 1/4 of its deployed volume\n",
    "number_of_stowed_beams_in_1_starship = starship_volume/V_BEAM_stowed\n",
    "print(\"number of stowed beams in starship\", number_of_stowed_beams_in_1_starship)\n",
    "print(\"deployed volume stowed beams in one starship\", number_of_stowed_beams_in_1_starship * V_BEAM_deployed)\n",
    "\n",
    "# print(\"Number of Beams in a single Starship launch\", starship_volume/V_BEAM_deployed/4)\n",
    "# print(f\"Number of Starships needed to match Space Station V volume: {V_hph/starship_volume:.1f}\")\n"
   ]
  },
  {
   "cell_type": "code",
   "execution_count": null,
   "id": "6353a523",
   "metadata": {},
   "outputs": [],
   "source": [
    "total_mass_of_BEAM_modules = 1413 * n_BEAM_modules_needed_to_match_ISS #kg\n",
    "print(\"total mass of BEAM modules\", total_mass_of_BEAM_modules, \"kg\")\n",
    "starship_payload_mass = 100000 # kg (100 metric tons)\n",
    "num_starship_launches_for_mass = total_mass_of_BEAM_modules / starship_payload_mass\n",
    "print(f\"Number of Starship launches needed by mass: {num_starship_launches_for_mass:.1f}\")\n",
    "\n"
   ]
  },
  {
   "cell_type": "markdown",
   "id": "311b9ea7",
   "metadata": {},
   "source": [
    "BEAM stows to 1/4 of its deployed volume aparently."
   ]
  },
  {
   "cell_type": "code",
   "execution_count": 2,
   "id": "e1c74229",
   "metadata": {},
   "outputs": [],
   "source": [
    "V_BEAM_stowed = V_BEAM_deployed/4 #m^3"
   ]
  },
  {
   "cell_type": "code",
   "execution_count": null,
   "id": "18989886",
   "metadata": {},
   "outputs": [],
   "source": []
  },
  {
   "cell_type": "code",
   "execution_count": null,
   "id": "0f3bcd54",
   "metadata": {},
   "outputs": [],
   "source": [
    "starship_volume/ISS_Pressurized_Volume"
   ]
  },
  {
   "cell_type": "code",
   "execution_count": null,
   "id": "3ebaceb1",
   "metadata": {},
   "outputs": [],
   "source": [
    "# Convert feet to meters\n",
    "stowed_length_ft = 7.09\n",
    "stowed_diameter_ft = 7.75\n",
    "deployed_length_ft = 13.16\n",
    "deployed_diameter_ft = 10.5\n",
    "\n",
    "ft_to_m = 0.3048\n",
    "\n",
    "# Stowed dimensions in meters\n",
    "stowed_length_m = stowed_length_ft * ft_to_m  \n",
    "stowed_diameter_m = stowed_diameter_ft * ft_to_m\n",
    "stowed_radius_m = stowed_diameter_m / 2\n",
    "\n",
    "# Deployed dimensions in meters\n",
    "deployed_length_m = deployed_length_ft * ft_to_m\n",
    "deployed_diameter_m = deployed_diameter_ft * ft_to_m \n",
    "deployed_radius_m = deployed_diameter_m / 2\n",
    "\n",
    "# Calculate volumes assuming cylinder shape\n",
    "# stowed_volume = np.pi * stowed_radius_m**2 * stowed_length_m # cylinder\n",
    "# stowed_volume = (4/3) * np.pi * stowed_radius_m**3 # sphere\n",
    "# stowed_volume = stowed_length_m * stowed_diameter_m * stowed_diameter_m # cuboid\n",
    "\n",
    "# deployed_volume = np.pi * deployed_radius_m**2 * deployed_length_m # cylinder\n",
    "# deployed_volume = (4/3) * np.pi * deployed_radius_m**3 # sphere\n",
    "deployed_volume = 16 # m^3 data from wiki\n",
    "\n",
    "print(f\"Stowed dimensions: {stowed_length_m:.2f}m x {stowed_diameter_m:.2f}m diameter\")\n",
    "print(f\"Stowed volume: {stowed_volume:.2f} m³\")\n",
    "print(f\"Deployed dimensions: {deployed_length_m:.2f}m x {deployed_diameter_m:.2f}m diameter\") \n",
    "print(f\"Deployed volume: {deployed_volume:.2f} m³\")\n",
    "print(f\"Ratio deployed/stowed: {deployed_volume/stowed_volume:.2f}\")\n",
    "print(f\"Compared to given V_BEAM_deployed ({V_BEAM_deployed} m³): {abs(deployed_volume - V_BEAM_deployed):.2f} m³ difference\")\n"
   ]
  },
  {
   "cell_type": "code",
   "execution_count": null,
   "id": "81a3b34d",
   "metadata": {},
   "outputs": [],
   "source": [
    "ISS_Pressurized_Volume/16"
   ]
  },
  {
   "cell_type": "code",
   "execution_count": null,
   "id": "e1646bcd",
   "metadata": {},
   "outputs": [],
   "source": []
  }
 ],
 "metadata": {
  "kernelspec": {
   "display_name": "Python 3 (ipykernel)",
   "language": "python",
   "name": "python3"
  },
  "language_info": {
   "codemirror_mode": {
    "name": "ipython",
    "version": 3
   },
   "file_extension": ".py",
   "mimetype": "text/x-python",
   "name": "python",
   "nbconvert_exporter": "python",
   "pygments_lexer": "ipython3",
   "version": "3.8.19"
  }
 },
 "nbformat": 4,
 "nbformat_minor": 5
}
